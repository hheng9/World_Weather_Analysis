{
 "cells": [
  {
   "cell_type": "code",
   "execution_count": 1,
   "id": "bbff8692",
   "metadata": {},
   "outputs": [],
   "source": [
    "# Import the random module.\n",
    "import random"
   ]
  },
  {
   "cell_type": "code",
   "execution_count": 3,
   "id": "93419691",
   "metadata": {},
   "outputs": [
    {
     "data": {
      "text/plain": [
       "0.25639063621899716"
      ]
     },
     "execution_count": 3,
     "metadata": {},
     "output_type": "execute_result"
    }
   ],
   "source": [
    "random.random()"
   ]
  },
  {
   "cell_type": "code",
   "execution_count": 7,
   "id": "9b98edbb",
   "metadata": {},
   "outputs": [
    {
     "data": {
      "text/plain": [
       "-85"
      ]
     },
     "execution_count": 7,
     "metadata": {},
     "output_type": "execute_result"
    }
   ],
   "source": [
    "random.randint(-90,90)"
   ]
  },
  {
   "cell_type": "code",
   "execution_count": 5,
   "id": "cfb0733b",
   "metadata": {},
   "outputs": [
    {
     "data": {
      "text/plain": [
       "-3"
      ]
     },
     "execution_count": 5,
     "metadata": {},
     "output_type": "execute_result"
    }
   ],
   "source": [
    "random.randrange(-9,9,2)"
   ]
  },
  {
   "cell_type": "code",
   "execution_count": 6,
   "id": "79b7722d",
   "metadata": {},
   "outputs": [
    {
     "data": {
      "text/plain": [
       "-1.3361544271885446"
      ]
     },
     "execution_count": 6,
     "metadata": {},
     "output_type": "execute_result"
    }
   ],
   "source": [
    "random.uniform(-10, 10)"
   ]
  },
  {
   "cell_type": "code",
   "execution_count": 9,
   "id": "5b59e646",
   "metadata": {},
   "outputs": [
    {
     "data": {
      "text/plain": [
       "89.24564274644091"
      ]
     },
     "execution_count": 9,
     "metadata": {},
     "output_type": "execute_result"
    }
   ],
   "source": [
    "x=1\n",
    "latitudes=[]\n",
    "while x < 11:\n",
    "    random_lat=random.randint(-90,89)+random.random()\n",
    "    latitudes.append(random_lat)\n",
    "    x += 1 \n",
    "\n",
    "random_lat"
   ]
  },
  {
   "cell_type": "code",
   "execution_count": 10,
   "id": "8edde93c",
   "metadata": {},
   "outputs": [
    {
     "data": {
      "text/plain": [
       "75"
      ]
     },
     "execution_count": 10,
     "metadata": {},
     "output_type": "execute_result"
    }
   ],
   "source": [
    "random.randrange(-90,90,step=3)"
   ]
  },
  {
   "cell_type": "code",
   "execution_count": 11,
   "id": "24cf50a0",
   "metadata": {},
   "outputs": [
    {
     "data": {
      "text/plain": [
       "57.914361066857595"
      ]
     },
     "execution_count": 11,
     "metadata": {},
     "output_type": "execute_result"
    }
   ],
   "source": [
    "random.uniform(-90,90)"
   ]
  },
  {
   "cell_type": "code",
   "execution_count": 13,
   "id": "c3960ac8",
   "metadata": {},
   "outputs": [],
   "source": [
    "# Import the NumPy module.\n",
    "import numpy as np"
   ]
  },
  {
   "cell_type": "code",
   "execution_count": 14,
   "id": "efb46a68",
   "metadata": {},
   "outputs": [
    {
     "data": {
      "text/plain": [
       "-49.418151920093834"
      ]
     },
     "execution_count": 14,
     "metadata": {},
     "output_type": "execute_result"
    }
   ],
   "source": [
    "np.random.uniform(-90.000, 90.000)"
   ]
  },
  {
   "cell_type": "code",
   "execution_count": 15,
   "id": "20876e6c",
   "metadata": {},
   "outputs": [
    {
     "data": {
      "text/plain": [
       "array([-60.24734771, -14.30552679, -75.09951065, -84.50915631,\n",
       "        49.50189253,  32.97805166,  73.02031707,  57.22683864,\n",
       "         1.05684932,  85.11335273,  45.93940928, -57.48406211,\n",
       "       -59.19716154,  58.73298465, -21.39813637,  13.58944724,\n",
       "        20.8011747 , -68.79107194, -58.2787493 , -34.58666498,\n",
       "       -27.44128201,  -3.57145143,  26.35769841,  15.83575033,\n",
       "       -54.63830737, -42.68375741, -14.63382056,  70.58082736,\n",
       "        66.22111016,  16.48451488,  10.173156  ,  17.30844021,\n",
       "        54.09080658, -56.25600425, -43.62649413, -21.01757944,\n",
       "        32.9518107 , -82.21600023, -27.14093845,  48.20408398,\n",
       "        -4.0081928 ,   4.68641862, -34.75621482, -75.82683865,\n",
       "        16.77295456,  22.40848314,  74.49691426,  74.22117948,\n",
       "        24.41942243,  69.63757325])"
      ]
     },
     "execution_count": 15,
     "metadata": {},
     "output_type": "execute_result"
    }
   ],
   "source": [
    "np.random.uniform(-90.000, 90.000, size= 50)"
   ]
  },
  {
   "cell_type": "code",
   "execution_count": 16,
   "id": "eebdcd4e",
   "metadata": {},
   "outputs": [],
   "source": [
    "# Import timeit.\n",
    "import timeit"
   ]
  },
  {
   "cell_type": "code",
   "execution_count": 17,
   "id": "3de0142e",
   "metadata": {},
   "outputs": [
    {
     "name": "stdout",
     "output_type": "stream",
     "text": [
      "13.1 µs ± 505 ns per loop (mean ± std. dev. of 7 runs, 100000 loops each)\n"
     ]
    }
   ],
   "source": [
    "%timeit np.random.uniform(-90.000,90.000, size=1500)"
   ]
  },
  {
   "cell_type": "code",
   "execution_count": 18,
   "id": "31f5145c",
   "metadata": {},
   "outputs": [
    {
     "name": "stdout",
     "output_type": "stream",
     "text": [
      "1.29 ms ± 54.6 µs per loop (mean ± std. dev. of 7 runs, 1000 loops each)\n"
     ]
    }
   ],
   "source": [
    "def latitudes (size):\n",
    "    latitudes = []\n",
    "    x=0 \n",
    "    while x < (size):\n",
    "        random_lat= random.randint(-90,90)+ random.random()\n",
    "        latitudes.append(random_lat)\n",
    "        x += 1 \n",
    "    return latitudes\n",
    "\n",
    "# Call the function with 1500\n",
    "%timeit latitudes(1500)"
   ]
  },
  {
   "cell_type": "code",
   "execution_count": null,
   "id": "03a2d1f8",
   "metadata": {},
   "outputs": [],
   "source": []
  }
 ],
 "metadata": {
  "kernelspec": {
   "display_name": "PyhtonData",
   "language": "python",
   "name": "pyhtondata"
  },
  "language_info": {
   "codemirror_mode": {
    "name": "ipython",
    "version": 3
   },
   "file_extension": ".py",
   "mimetype": "text/x-python",
   "name": "python",
   "nbconvert_exporter": "python",
   "pygments_lexer": "ipython3",
   "version": "3.9.13"
  }
 },
 "nbformat": 4,
 "nbformat_minor": 5
}
